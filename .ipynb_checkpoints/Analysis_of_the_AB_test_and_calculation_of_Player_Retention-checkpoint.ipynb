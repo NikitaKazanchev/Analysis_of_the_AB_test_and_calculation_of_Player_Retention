{
 "cells": [
  {
   "cell_type": "code",
   "execution_count": 4,
   "id": "b5acdc2e-3ebe-4b7e-987e-ccbadc12c099",
   "metadata": {},
   "outputs": [],
   "source": [
    "import pandas as pd\n",
    "import numpy as np\n",
    "import seaborn as sns\n",
    "import matplotlib.pyplot as plt\n",
    "from matplotlib.pyplot import figure\n",
    "from datetime import datetime, timedelta\n",
    "from scipy import stats\n",
    "from statsmodels.stats.proportion import proportions_ztest\n",
    "from scipy.stats import mannwhitneyu\n",
    "\n",
    "%matplotlib inline"
   ]
  },
  {
   "cell_type": "code",
   "execution_count": null,
   "id": "bd33d9c1-e7b3-45d1-a2e4-b3ec4107420c",
   "metadata": {},
   "outputs": [],
   "source": [
    "'''Задание 1\n",
    "Retention – один из самых важных показателей в компании. \n",
    "Ваша задача – написать функцию, которая будет считать retention игроков (по дням от даты регистрации игрока).'''"
   ]
  },
  {
   "cell_type": "code",
   "execution_count": 13,
   "id": "feb5f8ba-0146-4a74-a748-b85db71cbcf9",
   "metadata": {},
   "outputs": [],
   "source": [
    "df_1 = r'C:\\Users\\cmoki\\Desktop\\my_files\\final_project\\problem1-reg_data.csv'\n",
    "df_2 = r'C:\\Users\\cmoki\\Desktop\\my_files\\final_project\\problem1-auth_data.csv'"
   ]
  },
  {
   "cell_type": "code",
   "execution_count": 14,
   "id": "4e3576db-b37c-4506-9efe-87a7448aed71",
   "metadata": {},
   "outputs": [],
   "source": [
    "registration_time = pd.read_csv(df_1, sep=';')\n",
    "user_login_time = pd.read_csv(df_2, sep=';')"
   ]
  },
  {
   "cell_type": "code",
   "execution_count": 15,
   "id": "64761abe-73dc-433c-9446-d0552a22592f",
   "metadata": {},
   "outputs": [
    {
     "data": {
      "text/html": [
       "<div>\n",
       "<style scoped>\n",
       "    .dataframe tbody tr th:only-of-type {\n",
       "        vertical-align: middle;\n",
       "    }\n",
       "\n",
       "    .dataframe tbody tr th {\n",
       "        vertical-align: top;\n",
       "    }\n",
       "\n",
       "    .dataframe thead th {\n",
       "        text-align: right;\n",
       "    }\n",
       "</style>\n",
       "<table border=\"1\" class=\"dataframe\">\n",
       "  <thead>\n",
       "    <tr style=\"text-align: right;\">\n",
       "      <th></th>\n",
       "      <th>reg_ts</th>\n",
       "      <th>uid</th>\n",
       "    </tr>\n",
       "  </thead>\n",
       "  <tbody>\n",
       "    <tr>\n",
       "      <th>0</th>\n",
       "      <td>911382223</td>\n",
       "      <td>1</td>\n",
       "    </tr>\n",
       "    <tr>\n",
       "      <th>1</th>\n",
       "      <td>932683089</td>\n",
       "      <td>2</td>\n",
       "    </tr>\n",
       "    <tr>\n",
       "      <th>2</th>\n",
       "      <td>947802447</td>\n",
       "      <td>3</td>\n",
       "    </tr>\n",
       "    <tr>\n",
       "      <th>3</th>\n",
       "      <td>959523541</td>\n",
       "      <td>4</td>\n",
       "    </tr>\n",
       "    <tr>\n",
       "      <th>4</th>\n",
       "      <td>969103313</td>\n",
       "      <td>5</td>\n",
       "    </tr>\n",
       "    <tr>\n",
       "      <th>...</th>\n",
       "      <td>...</td>\n",
       "      <td>...</td>\n",
       "    </tr>\n",
       "    <tr>\n",
       "      <th>999995</th>\n",
       "      <td>1600874034</td>\n",
       "      <td>1110618</td>\n",
       "    </tr>\n",
       "    <tr>\n",
       "      <th>999996</th>\n",
       "      <td>1600874086</td>\n",
       "      <td>1110619</td>\n",
       "    </tr>\n",
       "    <tr>\n",
       "      <th>999997</th>\n",
       "      <td>1600874139</td>\n",
       "      <td>1110620</td>\n",
       "    </tr>\n",
       "    <tr>\n",
       "      <th>999998</th>\n",
       "      <td>1600874191</td>\n",
       "      <td>1110621</td>\n",
       "    </tr>\n",
       "    <tr>\n",
       "      <th>999999</th>\n",
       "      <td>1600874244</td>\n",
       "      <td>1110622</td>\n",
       "    </tr>\n",
       "  </tbody>\n",
       "</table>\n",
       "<p>1000000 rows × 2 columns</p>\n",
       "</div>"
      ],
      "text/plain": [
       "            reg_ts      uid\n",
       "0        911382223        1\n",
       "1        932683089        2\n",
       "2        947802447        3\n",
       "3        959523541        4\n",
       "4        969103313        5\n",
       "...            ...      ...\n",
       "999995  1600874034  1110618\n",
       "999996  1600874086  1110619\n",
       "999997  1600874139  1110620\n",
       "999998  1600874191  1110621\n",
       "999999  1600874244  1110622\n",
       "\n",
       "[1000000 rows x 2 columns]"
      ]
     },
     "execution_count": 15,
     "metadata": {},
     "output_type": "execute_result"
    }
   ],
   "source": [
    "registration_time"
   ]
  },
  {
   "cell_type": "code",
   "execution_count": 16,
   "id": "b013a928-341a-4f0d-a1fa-db112c733ea3",
   "metadata": {},
   "outputs": [
    {
     "data": {
      "text/html": [
       "<div>\n",
       "<style scoped>\n",
       "    .dataframe tbody tr th:only-of-type {\n",
       "        vertical-align: middle;\n",
       "    }\n",
       "\n",
       "    .dataframe tbody tr th {\n",
       "        vertical-align: top;\n",
       "    }\n",
       "\n",
       "    .dataframe thead th {\n",
       "        text-align: right;\n",
       "    }\n",
       "</style>\n",
       "<table border=\"1\" class=\"dataframe\">\n",
       "  <thead>\n",
       "    <tr style=\"text-align: right;\">\n",
       "      <th></th>\n",
       "      <th>auth_ts</th>\n",
       "      <th>uid</th>\n",
       "    </tr>\n",
       "  </thead>\n",
       "  <tbody>\n",
       "    <tr>\n",
       "      <th>0</th>\n",
       "      <td>911382223</td>\n",
       "      <td>1</td>\n",
       "    </tr>\n",
       "    <tr>\n",
       "      <th>1</th>\n",
       "      <td>932683089</td>\n",
       "      <td>2</td>\n",
       "    </tr>\n",
       "    <tr>\n",
       "      <th>2</th>\n",
       "      <td>932921206</td>\n",
       "      <td>2</td>\n",
       "    </tr>\n",
       "    <tr>\n",
       "      <th>3</th>\n",
       "      <td>933393015</td>\n",
       "      <td>2</td>\n",
       "    </tr>\n",
       "    <tr>\n",
       "      <th>4</th>\n",
       "      <td>933875379</td>\n",
       "      <td>2</td>\n",
       "    </tr>\n",
       "    <tr>\n",
       "      <th>...</th>\n",
       "      <td>...</td>\n",
       "      <td>...</td>\n",
       "    </tr>\n",
       "    <tr>\n",
       "      <th>9601008</th>\n",
       "      <td>1600874034</td>\n",
       "      <td>1110618</td>\n",
       "    </tr>\n",
       "    <tr>\n",
       "      <th>9601009</th>\n",
       "      <td>1600874086</td>\n",
       "      <td>1110619</td>\n",
       "    </tr>\n",
       "    <tr>\n",
       "      <th>9601010</th>\n",
       "      <td>1600874139</td>\n",
       "      <td>1110620</td>\n",
       "    </tr>\n",
       "    <tr>\n",
       "      <th>9601011</th>\n",
       "      <td>1600874191</td>\n",
       "      <td>1110621</td>\n",
       "    </tr>\n",
       "    <tr>\n",
       "      <th>9601012</th>\n",
       "      <td>1600874244</td>\n",
       "      <td>1110622</td>\n",
       "    </tr>\n",
       "  </tbody>\n",
       "</table>\n",
       "<p>9601013 rows × 2 columns</p>\n",
       "</div>"
      ],
      "text/plain": [
       "            auth_ts      uid\n",
       "0         911382223        1\n",
       "1         932683089        2\n",
       "2         932921206        2\n",
       "3         933393015        2\n",
       "4         933875379        2\n",
       "...             ...      ...\n",
       "9601008  1600874034  1110618\n",
       "9601009  1600874086  1110619\n",
       "9601010  1600874139  1110620\n",
       "9601011  1600874191  1110621\n",
       "9601012  1600874244  1110622\n",
       "\n",
       "[9601013 rows x 2 columns]"
      ]
     },
     "execution_count": 16,
     "metadata": {},
     "output_type": "execute_result"
    }
   ],
   "source": [
    "user_login_time"
   ]
  },
  {
   "cell_type": "code",
   "execution_count": 17,
   "id": "62abc7ea-343e-453c-93da-1de5851e1bdd",
   "metadata": {},
   "outputs": [
    {
     "name": "stdout",
     "output_type": "stream",
     "text": [
      "(1000000, 2)\n",
      "(9601013, 2)\n"
     ]
    }
   ],
   "source": [
    "print(registration_time.shape)\n",
    "print(user_login_time.shape)"
   ]
  },
  {
   "cell_type": "code",
   "execution_count": 18,
   "id": "72f8fb9a-e14a-4564-8a66-04db2ac13e63",
   "metadata": {},
   "outputs": [
    {
     "name": "stdout",
     "output_type": "stream",
     "text": [
      "      reg_ts  uid\n",
      "0  911382223    1\n",
      "1  932683089    2\n",
      "2  947802447    3\n",
      "3  959523541    4\n",
      "4  969103313    5\n",
      "     auth_ts  uid\n",
      "0  911382223    1\n",
      "1  932683089    2\n",
      "2  932921206    2\n",
      "3  933393015    2\n",
      "4  933875379    2\n",
      "reg_ts    0\n",
      "uid       0\n",
      "dtype: int64\n",
      "auth_ts    0\n",
      "uid        0\n",
      "dtype: int64\n",
      "0\n",
      "0\n"
     ]
    }
   ],
   "source": [
    "# Просмотр первые пять строк данных\n",
    "print(registration_time.head())\n",
    "print(user_login_time.head())\n",
    "# Проверка наличия пропусков в данных\n",
    "print(registration_time.isnull().sum())\n",
    "print(user_login_time.isnull().sum())\n",
    "# Проверка наличия дубликатов\n",
    "print(registration_time.duplicated().sum())\n",
    "print(user_login_time.duplicated().sum())"
   ]
  },
  {
   "cell_type": "code",
   "execution_count": 19,
   "id": "49306590-b435-44bf-b11c-a4a07d03425e",
   "metadata": {},
   "outputs": [],
   "source": [
    "# Объединяю файлы\n",
    "merged_data = registration_time.merge(user_login_time, how='left', on='uid')\n",
    "\n",
    "# перевожу данные о времени в формат datetime64[ns]\n",
    "merged_data['reg_ts'] = pd.to_datetime(merged_data['reg_ts'], unit='s')\n",
    "merged_data['auth_ts'] = pd.to_datetime(merged_data['auth_ts'], unit='s') "
   ]
  },
  {
   "cell_type": "code",
   "execution_count": 20,
   "id": "77826e52-7e19-4a66-b0c6-f0b88085bb53",
   "metadata": {},
   "outputs": [
    {
     "data": {
      "text/html": [
       "<div>\n",
       "<style scoped>\n",
       "    .dataframe tbody tr th:only-of-type {\n",
       "        vertical-align: middle;\n",
       "    }\n",
       "\n",
       "    .dataframe tbody tr th {\n",
       "        vertical-align: top;\n",
       "    }\n",
       "\n",
       "    .dataframe thead th {\n",
       "        text-align: right;\n",
       "    }\n",
       "</style>\n",
       "<table border=\"1\" class=\"dataframe\">\n",
       "  <thead>\n",
       "    <tr style=\"text-align: right;\">\n",
       "      <th></th>\n",
       "      <th>reg_ts</th>\n",
       "      <th>uid</th>\n",
       "      <th>auth_ts</th>\n",
       "    </tr>\n",
       "  </thead>\n",
       "  <tbody>\n",
       "    <tr>\n",
       "      <th>0</th>\n",
       "      <td>1998-11-18 09:43:43</td>\n",
       "      <td>1</td>\n",
       "      <td>1998-11-18 09:43:43</td>\n",
       "    </tr>\n",
       "    <tr>\n",
       "      <th>1</th>\n",
       "      <td>1999-07-22 22:38:09</td>\n",
       "      <td>2</td>\n",
       "      <td>1999-07-22 22:38:09</td>\n",
       "    </tr>\n",
       "    <tr>\n",
       "      <th>2</th>\n",
       "      <td>1999-07-22 22:38:09</td>\n",
       "      <td>2</td>\n",
       "      <td>1999-07-25 16:46:46</td>\n",
       "    </tr>\n",
       "    <tr>\n",
       "      <th>3</th>\n",
       "      <td>1999-07-22 22:38:09</td>\n",
       "      <td>2</td>\n",
       "      <td>1999-07-31 03:50:15</td>\n",
       "    </tr>\n",
       "    <tr>\n",
       "      <th>4</th>\n",
       "      <td>1999-07-22 22:38:09</td>\n",
       "      <td>2</td>\n",
       "      <td>1999-08-05 17:49:39</td>\n",
       "    </tr>\n",
       "    <tr>\n",
       "      <th>...</th>\n",
       "      <td>...</td>\n",
       "      <td>...</td>\n",
       "      <td>...</td>\n",
       "    </tr>\n",
       "    <tr>\n",
       "      <th>9601008</th>\n",
       "      <td>2020-09-23 15:13:54</td>\n",
       "      <td>1110618</td>\n",
       "      <td>2020-09-23 15:13:54</td>\n",
       "    </tr>\n",
       "    <tr>\n",
       "      <th>9601009</th>\n",
       "      <td>2020-09-23 15:14:46</td>\n",
       "      <td>1110619</td>\n",
       "      <td>2020-09-23 15:14:46</td>\n",
       "    </tr>\n",
       "    <tr>\n",
       "      <th>9601010</th>\n",
       "      <td>2020-09-23 15:15:39</td>\n",
       "      <td>1110620</td>\n",
       "      <td>2020-09-23 15:15:39</td>\n",
       "    </tr>\n",
       "    <tr>\n",
       "      <th>9601011</th>\n",
       "      <td>2020-09-23 15:16:31</td>\n",
       "      <td>1110621</td>\n",
       "      <td>2020-09-23 15:16:31</td>\n",
       "    </tr>\n",
       "    <tr>\n",
       "      <th>9601012</th>\n",
       "      <td>2020-09-23 15:17:24</td>\n",
       "      <td>1110622</td>\n",
       "      <td>2020-09-23 15:17:24</td>\n",
       "    </tr>\n",
       "  </tbody>\n",
       "</table>\n",
       "<p>9601013 rows × 3 columns</p>\n",
       "</div>"
      ],
      "text/plain": [
       "                     reg_ts      uid             auth_ts\n",
       "0       1998-11-18 09:43:43        1 1998-11-18 09:43:43\n",
       "1       1999-07-22 22:38:09        2 1999-07-22 22:38:09\n",
       "2       1999-07-22 22:38:09        2 1999-07-25 16:46:46\n",
       "3       1999-07-22 22:38:09        2 1999-07-31 03:50:15\n",
       "4       1999-07-22 22:38:09        2 1999-08-05 17:49:39\n",
       "...                     ...      ...                 ...\n",
       "9601008 2020-09-23 15:13:54  1110618 2020-09-23 15:13:54\n",
       "9601009 2020-09-23 15:14:46  1110619 2020-09-23 15:14:46\n",
       "9601010 2020-09-23 15:15:39  1110620 2020-09-23 15:15:39\n",
       "9601011 2020-09-23 15:16:31  1110621 2020-09-23 15:16:31\n",
       "9601012 2020-09-23 15:17:24  1110622 2020-09-23 15:17:24\n",
       "\n",
       "[9601013 rows x 3 columns]"
      ]
     },
     "execution_count": 20,
     "metadata": {},
     "output_type": "execute_result"
    }
   ],
   "source": [
    "merged_data"
   ]
  },
  {
   "cell_type": "code",
   "execution_count": 21,
   "id": "6860b7cb-b5f5-4b9a-86a4-fd227de11fcd",
   "metadata": {},
   "outputs": [],
   "source": [
    "def calculate_retention_rate(df: pd.DataFrame, days: list) -> list:\n",
    "    df['seniority'] = (df['auth_ts'] - df['reg_ts']).dt.days\n",
    "\n",
    "    retention_rates = []\n",
    "    \n",
    "    for day in days:\n",
    "        users_with_classic_day = df[(df['seniority'] == day)]['uid'].unique()\n",
    "        retention_rates.append(len(users_with_classic_day) / len(df['uid'].unique()) * 100)\n",
    "\n",
    "    return retention_rates"
   ]
  },
  {
   "cell_type": "code",
   "execution_count": 22,
   "id": "25422ebd-3307-4c1f-af92-60cd7146e4b0",
   "metadata": {},
   "outputs": [],
   "source": [
    "days = list(range(0, 10))\n",
    "retention_rates = calculate_retention_rate(merged_data, days)"
   ]
  },
  {
   "cell_type": "code",
   "execution_count": 23,
   "id": "d88901e3-d4dc-4fd7-80c9-2adc5b626766",
   "metadata": {},
   "outputs": [
    {
     "data": {
      "text/plain": [
       "[100.0,\n",
       " 4.0202,\n",
       " 4.2991,\n",
       " 4.9152000000000005,\n",
       " 5.607,\n",
       " 6.371300000000001,\n",
       " 7.2773,\n",
       " 4.3626,\n",
       " 4.9667,\n",
       " 5.0373]"
      ]
     },
     "execution_count": 23,
     "metadata": {},
     "output_type": "execute_result"
    }
   ],
   "source": [
    "retention_rates"
   ]
  },
  {
   "cell_type": "code",
   "execution_count": 24,
   "id": "a944b07d-8a87-4d63-a810-be48ce1d5c1b",
   "metadata": {},
   "outputs": [
    {
     "data": {
      "image/png": "[encoded data removed]",
      "text/plain": [
       "<Figure size 1000x600 with 1 Axes>"
      ]
     },
     "metadata": {},
     "output_type": "display_data"
    }
   ],
   "source": [
    "# Построение графика Retention Rate\n",
    "plt.figure(figsize=(10, 6))\n",
    "plt.plot(range(1, len(retention_rates) + 1), retention_rates, marker='o')\n",
    "plt.xlabel('Day since registration')\n",
    "plt.ylabel('Retention Rate (%)')\n",
    "plt.title('Retention Rate over Time')\n",
    "plt.grid(True)\n",
    "plt.show()"
   ]
  },
  {
   "cell_type": "code",
   "execution_count": null,
   "id": "22fda55f-f7de-4883-aa01-73bfaa531d21",
   "metadata": {},
   "outputs": [],
   "source": []
  },
  {
   "cell_type": "code",
   "execution_count": null,
   "id": "277999f3-b640-4d7e-9f89-924e0f0ebc0c",
   "metadata": {},
   "outputs": [],
   "source": []
  },
  {
   "cell_type": "code",
   "execution_count": null,
   "id": "b2d6f254-8834-4adf-83f6-609bcc681325",
   "metadata": {},
   "outputs": [],
   "source": [
    "'''Задание 2\n",
    "Имеются результаты A/B теста, в котором двум группам пользователей предлагались различные наборы акционных предложений. \n",
    "Известно, что ARPU в тестовой группе выше на 5%, чем в контрольной. \n",
    "При этом в контрольной группе 1928 игроков из 202103 оказались платящими, а в тестовой – 1805 из 202667.\n",
    "\n",
    "Какой набор предложений можно считать лучшим? Какие метрики стоит проанализировать для принятия правильного решения и как?'''"
   ]
  },
  {
   "cell_type": "code",
   "execution_count": 25,
   "id": "ace08836-ec93-42ac-955f-3295d17e1db1",
   "metadata": {},
   "outputs": [
    {
     "data": {
      "text/html": [
       "<div>\n",
       "<style scoped>\n",
       "    .dataframe tbody tr th:only-of-type {\n",
       "        vertical-align: middle;\n",
       "    }\n",
       "\n",
       "    .dataframe tbody tr th {\n",
       "        vertical-align: top;\n",
       "    }\n",
       "\n",
       "    .dataframe thead th {\n",
       "        text-align: right;\n",
       "    }\n",
       "</style>\n",
       "<table border=\"1\" class=\"dataframe\">\n",
       "  <thead>\n",
       "    <tr style=\"text-align: right;\">\n",
       "      <th></th>\n",
       "      <th>user_id</th>\n",
       "      <th>revenue</th>\n",
       "      <th>testgroup</th>\n",
       "    </tr>\n",
       "  </thead>\n",
       "  <tbody>\n",
       "    <tr>\n",
       "      <th>0</th>\n",
       "      <td>1</td>\n",
       "      <td>0</td>\n",
       "      <td>b</td>\n",
       "    </tr>\n",
       "    <tr>\n",
       "      <th>1</th>\n",
       "      <td>2</td>\n",
       "      <td>0</td>\n",
       "      <td>a</td>\n",
       "    </tr>\n",
       "    <tr>\n",
       "      <th>2</th>\n",
       "      <td>3</td>\n",
       "      <td>0</td>\n",
       "      <td>a</td>\n",
       "    </tr>\n",
       "    <tr>\n",
       "      <th>3</th>\n",
       "      <td>4</td>\n",
       "      <td>0</td>\n",
       "      <td>b</td>\n",
       "    </tr>\n",
       "    <tr>\n",
       "      <th>4</th>\n",
       "      <td>5</td>\n",
       "      <td>0</td>\n",
       "      <td>b</td>\n",
       "    </tr>\n",
       "    <tr>\n",
       "      <th>...</th>\n",
       "      <td>...</td>\n",
       "      <td>...</td>\n",
       "      <td>...</td>\n",
       "    </tr>\n",
       "    <tr>\n",
       "      <th>404765</th>\n",
       "      <td>404766</td>\n",
       "      <td>0</td>\n",
       "      <td>a</td>\n",
       "    </tr>\n",
       "    <tr>\n",
       "      <th>404766</th>\n",
       "      <td>404767</td>\n",
       "      <td>0</td>\n",
       "      <td>b</td>\n",
       "    </tr>\n",
       "    <tr>\n",
       "      <th>404767</th>\n",
       "      <td>404768</td>\n",
       "      <td>231</td>\n",
       "      <td>a</td>\n",
       "    </tr>\n",
       "    <tr>\n",
       "      <th>404768</th>\n",
       "      <td>404769</td>\n",
       "      <td>0</td>\n",
       "      <td>a</td>\n",
       "    </tr>\n",
       "    <tr>\n",
       "      <th>404769</th>\n",
       "      <td>404770</td>\n",
       "      <td>0</td>\n",
       "      <td>b</td>\n",
       "    </tr>\n",
       "  </tbody>\n",
       "</table>\n",
       "<p>404770 rows × 3 columns</p>\n",
       "</div>"
      ],
      "text/plain": [
       "        user_id  revenue testgroup\n",
       "0             1        0         b\n",
       "1             2        0         a\n",
       "2             3        0         a\n",
       "3             4        0         b\n",
       "4             5        0         b\n",
       "...         ...      ...       ...\n",
       "404765   404766        0         a\n",
       "404766   404767        0         b\n",
       "404767   404768      231         a\n",
       "404768   404769        0         a\n",
       "404769   404770        0         b\n",
       "\n",
       "[404770 rows x 3 columns]"
      ]
     },
     "execution_count": 25,
     "metadata": {},
     "output_type": "execute_result"
    }
   ],
   "source": [
    "ab_test_results = pd.read_csv(r'C:\\Users\\cmoki\\Desktop\\my_files\\final_project\\Проект_1_Задание_2.csv', sep=';')\n",
    "ab_test_results"
   ]
  },
  {
   "cell_type": "code",
   "execution_count": 26,
   "id": "03a45188-bc1a-4d21-92c5-fac402ecad92",
   "metadata": {},
   "outputs": [
    {
     "name": "stdout",
     "output_type": "stream",
     "text": [
      "   user_id  revenue testgroup\n",
      "0        1        0         b\n",
      "1        2        0         a\n",
      "2        3        0         a\n",
      "3        4        0         b\n",
      "4        5        0         b\n",
      "user_id      0\n",
      "revenue      0\n",
      "testgroup    0\n",
      "dtype: int64\n",
      "0\n",
      "user_id       int64\n",
      "revenue       int64\n",
      "testgroup    object\n",
      "dtype: object\n"
     ]
    }
   ],
   "source": [
    "# Просмотр первые пять строк данных\n",
    "print(ab_test_results.head())\n",
    "\n",
    "# Проверка наличия пропусков в данных\n",
    "print(ab_test_results.isnull().sum())\n",
    "\n",
    "# Проверка наличия дубликатов\n",
    "print(ab_test_results.duplicated().sum())\n",
    "print(ab_test_results.dtypes)"
   ]
  },
  {
   "cell_type": "code",
   "execution_count": 27,
   "id": "694051a2-d421-468e-8412-17dd130ff89d",
   "metadata": {},
   "outputs": [
    {
     "name": "stdout",
     "output_type": "stream",
     "text": [
      "Statistics=0.015, p-value=0.000\n",
      "Отклонить гипотезу о нормальности\n"
     ]
    },
    {
     "name": "stderr",
     "output_type": "stream",
     "text": [
      "C:\\Python\\lib\\site-packages\\scipy\\stats\\_axis_nan_policy.py:531: UserWarning: scipy.stats.shapiro: For N > 5000, computed p-value may not be accurate. Current N is 404770.\n",
      "  res = hypotest_fun_out(*samples, **kwds)\n"
     ]
    }
   ],
   "source": [
    "stat, p = stats.shapiro(ab_test_results['revenue'])\n",
    "\n",
    "print('Statistics=%.3f, p-value=%.3f' % (stat, p))\n",
    "\n",
    "alpha = 0.05 \n",
    "\n",
    "if p > alpha:\n",
    "    print('Принять гипотезу о нормальности') \n",
    "else:\n",
    "    print('Отклонить гипотезу о нормальности')"
   ]
  },
  {
   "cell_type": "code",
   "execution_count": 28,
   "id": "23f7400a-c13e-4491-a86c-e875ad63898c",
   "metadata": {},
   "outputs": [
    {
     "data": {
      "image/png": "[encoded data removed]",
      "text/plain": [
       "<Figure size 1000x600 with 1 Axes>"
      ]
     },
     "metadata": {},
     "output_type": "display_data"
    }
   ],
   "source": [
    "plt.figure(figsize=(10, 6))\n",
    "ax = sns.boxplot(x = 'revenue', y = 'testgroup', data = ab_test_results.query(\"revenue > 0\"))\n",
    "fig=ax.get_figure()\n",
    "fig.savefig(\"Boxplot_revenue.png\")\n",
    "plt.show()"
   ]
  },
  {
   "cell_type": "code",
   "execution_count": 29,
   "id": "bba1fa4c-ef72-4bb6-95b6-0c570da2a88b",
   "metadata": {},
   "outputs": [
    {
     "name": "stdout",
     "output_type": "stream",
     "text": [
      "В контрольной группе 202103 человек, а в тестовой 202667 человек\n"
     ]
    }
   ],
   "source": [
    "# делю на группу\n",
    "group_a = ab_test_results.query('testgroup == \"a\"')\n",
    "group_b = ab_test_results.query('testgroup == \"b\"')\n",
    "\n",
    "# количество пользователей в каждой группе\n",
    "count_users_group_a = group_a['user_id'].nunique()\n",
    "count_users_group_b = group_b['user_id'].nunique()\n",
    "print(f'В контрольной группе {count_users_group_a} человек, а в тестовой {count_users_group_b} человек')"
   ]
  },
  {
   "cell_type": "code",
   "execution_count": 30,
   "id": "499979cd-c779-41f4-be25-4abc0ccec822",
   "metadata": {},
   "outputs": [
    {
     "name": "stdout",
     "output_type": "stream",
     "text": [
      "В контрольной группе доход составляет 5136189, а в тестовой 5421603\n"
     ]
    }
   ],
   "source": [
    "# общий доход по группам\n",
    "income_a = group_a['revenue'].sum()\n",
    "income_b = group_b['revenue'].sum()\n",
    "print(f'В контрольной группе доход составляет {income_a}, а в тестовой {income_b}')"
   ]
  },
  {
   "cell_type": "code",
   "execution_count": 31,
   "id": "a01ded72-2104-4d33-bae3-ca17a460191a",
   "metadata": {},
   "outputs": [
    {
     "name": "stdout",
     "output_type": "stream",
     "text": [
      "Средний чек для группы A: 2664\n",
      "Средний чек для группы B: 3004\n"
     ]
    },
    {
     "name": "stderr",
     "output_type": "stream",
     "text": [
      "C:\\Users\\cmoki\\AppData\\Local\\Temp\\ipykernel_11716\\553068733.py:2: SettingWithCopyWarning: \n",
      "A value is trying to be set on a copy of a slice from a DataFrame.\n",
      "Try using .loc[row_indexer,col_indexer] = value instead\n",
      "\n",
      "See the caveats in the documentation: https://pandas.pydata.org/pandas-docs/stable/user_guide/indexing.html#returning-a-view-versus-a-copy\n",
      "  group_a['revenue'] = pd.to_numeric(group_a['revenue'])\n",
      "C:\\Users\\cmoki\\AppData\\Local\\Temp\\ipykernel_11716\\553068733.py:3: SettingWithCopyWarning: \n",
      "A value is trying to be set on a copy of a slice from a DataFrame.\n",
      "Try using .loc[row_indexer,col_indexer] = value instead\n",
      "\n",
      "See the caveats in the documentation: https://pandas.pydata.org/pandas-docs/stable/user_guide/indexing.html#returning-a-view-versus-a-copy\n",
      "  group_b['revenue'] = pd.to_numeric(group_b['revenue'])\n"
     ]
    }
   ],
   "source": [
    "# Преобразование столбца 'revenue' в числовой формат\n",
    "group_a['revenue'] = pd.to_numeric(group_a['revenue'])\n",
    "group_b['revenue'] = pd.to_numeric(group_b['revenue'])\n",
    "\n",
    "# Вычисление среднего чека для группы A\n",
    "avg_a = round(group_a['revenue'].sum() / group_a.query(\"revenue > 0\")['revenue'].count())\n",
    "\n",
    "# Вычисление среднего чека для группы B\n",
    "avg_b = round(group_b['revenue'].sum() / group_b.query(\"revenue > 0\")['revenue'].count())\n",
    "\n",
    "print('Средний чек для группы A:', avg_a)\n",
    "print('Средний чек для группы B:', avg_b)"
   ]
  },
  {
   "cell_type": "code",
   "execution_count": 32,
   "id": "92186206-aafe-44d3-ab61-785fc04c7bbe",
   "metadata": {},
   "outputs": [
    {
     "name": "stdout",
     "output_type": "stream",
     "text": [
      "мудианный чек для группы A: 311.0\n",
      "мудианный чек для группы Б: 3022.0\n"
     ]
    }
   ],
   "source": [
    "#медианный средний чек\n",
    "median_paid_a = group_a.query(\"revenue > 0\")['revenue'].median() \n",
    "median_paid_b = group_b.query(\"revenue > 0\")['revenue'].median()\n",
    "print('мудианный чек для группы A:', median_paid_a)\n",
    "print('мудианный чек для группы Б:', median_paid_b)"
   ]
  },
  {
   "cell_type": "code",
   "execution_count": 33,
   "id": "9ef5944d-7b15-4161-963c-8999b23c04fe",
   "metadata": {},
   "outputs": [],
   "source": [
    "# Получение массивов значений дохода для каждой группы\n",
    "revenue_a = group_a['revenue'].values\n",
    "revenue_b = group_b['revenue'].values"
   ]
  },
  {
   "cell_type": "code",
   "execution_count": 34,
   "id": "b0b4fb96-3774-4929-bde2-a7340961f94e",
   "metadata": {},
   "outputs": [
    {
     "name": "stdout",
     "output_type": "stream",
     "text": [
      "25.413719736965806\n",
      "26.75128659327863\n",
      "ARPU в тестовой группе выше на 5%\n"
     ]
    }
   ],
   "source": [
    "arpu_a = income_a / count_users_group_a\n",
    "arpu_b = income_b / count_users_group_b\n",
    "print(arpu_a)\n",
    "print(arpu_b)\n",
    "\n",
    "print(f'ARPU в тестовой группе выше на {round(arpu_b / arpu_a * 100 - 100)}%')"
   ]
  },
  {
   "cell_type": "code",
   "execution_count": 35,
   "id": "9361d27e-4b76-4d6b-a949-400a0937567a",
   "metadata": {},
   "outputs": [
    {
     "name": "stdout",
     "output_type": "stream",
     "text": [
      "В контрольной группе конверсия составляет 0.95%, а в тестовой 0.89%\n"
     ]
    }
   ],
   "source": [
    "# Анализ метрик :\n",
    "\n",
    "# Известно, что ARPU в тестовой группе выше на 5%\n",
    "# Конверсия (Conversion Rate)\n",
    "# Известно что в контрольной группе 1928 игроков оказались платящими, а в тестовой – 1805\n",
    "conversion_rate_a = (1928/count_users_group_a) * 100\n",
    "conversion_rate_b = (1805/count_users_group_b) * 100\n",
    "\n",
    "print(f'В контрольной группе конверсия составляет {round(conversion_rate_a, 2)}%, а в тестовой {round(conversion_rate_b, 2)}%')\n",
    "#Это означает, что в тестовой группе конверсия ниже, чем в контрольной, несмотря на то, что ARPU выше."
   ]
  },
  {
   "cell_type": "code",
   "execution_count": 36,
   "id": "910bbc7d-cdac-4a40-bc21-cfe6852b5b29",
   "metadata": {},
   "outputs": [
    {
     "name": "stdout",
     "output_type": "stream",
     "text": [
      "U-статистика: 20491259376.0\n",
      "p-value: 0.06269701316074398\n",
      "Нет статистически значимых различий между двумя группами\n"
     ]
    }
   ],
   "source": [
    "# проврдим тест U-критерий Манна-Уитни для сравнения контрольной и тестовой группы\n",
    "statistic, p_value = mannwhitneyu(revenue_a, revenue_b)\n",
    "\n",
    "# Вывод результатов\n",
    "print('U-статистика:', statistic)\n",
    "print('p-value:', p_value)\n",
    "\n",
    "alpha = 0.05\n",
    "if p_value < alpha:\n",
    "    print('Существуют статистически значимые различия между двумя группами')\n",
    "else:\n",
    "    print('Нет статистически значимых различий между двумя группами')"
   ]
  },
  {
   "cell_type": "code",
   "execution_count": 37,
   "id": "451ff7d5-ac33-4aa9-9fa1-1e0531198b97",
   "metadata": {},
   "outputs": [
    {
     "name": "stdout",
     "output_type": "stream",
     "text": [
      "t_stat: 2.108028495889841, p_value: 0.035028524642854865\n",
      "Различия в конверсии статистически значимы\n"
     ]
    }
   ],
   "source": [
    "# Использую z-тест для сравнения конверсии:\n",
    "\n",
    "# Применение z-теста для сравнения конверсии\n",
    "count = np.array([1928, 1805])\n",
    "nobs = np.array([count_users_group_a, count_users_group_b])\n",
    "\n",
    "z_stat, p_value = proportions_ztest(count, nobs)\n",
    "print(f't_stat: {z_stat}, p_value: {p_value}')\n",
    "\n",
    "if p_value < 0.05:\n",
    "    print(\"Различия в конверсии статистически значимы\")\n",
    "else:\n",
    "    print(\"Различия в конверсии не являются статистически значимыми\")"
   ]
  },
  {
   "cell_type": "code",
   "execution_count": null,
   "id": "dd5267f5-f195-4d43-9ea0-28aa85d3fd1b",
   "metadata": {},
   "outputs": [],
   "source": [
    "'''\n",
    "Вывод:\n",
    "\n",
    "Тестовая группа демонстрирует более высокий ARPU, что является положительным результатом. Однако, учитывая отсутствие \n",
    "статистически значимых различий в доходах между группами согласно U-критерию Манна-Уитни и статистически значимое снижение \n",
    "конверсии в тестовой группе, можно сделать вывод, что контрольная группа остается более успешной в продвижении наборов \n",
    "акционных предложений.\n",
    "Решение о том, какой набор предложений считать лучшим, должно быть принято с учетом всех факторов, включая ARPU, конверсию, \n",
    "статистическую значимость результатов и другие бизнес-цели компании. Дополнительный анализ и исследование могут быть необходимы \n",
    "для более глубокого понимания причин различий между группами и принятия обоснованного решения.\n",
    "'''"
   ]
  },
  {
   "cell_type": "code",
   "execution_count": null,
   "id": "531074e2-4a9c-452f-b8cb-e42b75ba613d",
   "metadata": {},
   "outputs": [],
   "source": []
  },
  {
   "cell_type": "code",
   "execution_count": null,
   "id": "7bea3e7d-edfa-4cc0-abdc-73960d70ebeb",
   "metadata": {},
   "outputs": [],
   "source": []
  },
  {
   "cell_type": "code",
   "execution_count": null,
   "id": "48ae1d0c-5ce4-423f-8539-ad6edd86fa74",
   "metadata": {},
   "outputs": [],
   "source": [
    "'''Задание 3\n",
    "В игре Plants & Gardens каждый месяц проводятся тематические события, ограниченные по времени. \n",
    "В них игроки могут получить уникальные предметы для сада и персонажей, дополнительные монеты или бонусы. \n",
    "Для получения награды требуется пройти ряд уровней за определенное время. \n",
    "С помощью каких метрик можно оценить результаты последнего прошедшего события?\n",
    "\n",
    "Предположим, в другом событии мы усложнили механику событий так, что при каждой неудачной попытке выполнения уровня игрок \n",
    "будет откатываться на несколько уровней назад. Изменится ли набор метрик оценки результата? Если да, то как?'''"
   ]
  },
  {
   "cell_type": "code",
   "execution_count": null,
   "id": "6670cd9b-c0e8-4e31-bb02-d24ecef25c13",
   "metadata": {},
   "outputs": [],
   "source": [
    "'''\n",
    "    Для оценки результатов последнего прошедшего события можно использовать следующие метрики:\n",
    "1. Количество участников: сколько игроков приняли участие в событии.\n",
    "2. Время прохождения: за какое среднее время участники смогли пройти уровни.\n",
    "3. Процент успешных прохождений: какая доля участников смогла пройти все уровни за отведенное время.\n",
    "4. Среднее количество попыток: сколько в среднем попыток делали участники для прохождения уровня.\n",
    "5. Количество завершенных уровней: сколько уровней было успешно пройдено игроками\n",
    "6. Количество полученных уникальных предметов: сколько уникальных предметов было получено игроками во время события.\n",
    "\n",
    "    Если механика события будет усложнена, то набор метрик для оценки результатов может измениться:\n",
    "1. Количество неудачных попыток: эта метрика покажет, сколько раз игроки не смогли пройти уровень, \n",
    "что может быть связано с новой механикой.\n",
    "2. Среднее количество уровней, которое игроки потеряли из-за неудачных попыток: метрика позволит оценить, \n",
    "насколько сложной стала новая механика и как она влияет на прогресс игроков.\n",
    "3. Количество игроков, покинувших игру после неудачных попыток.\n",
    "4. Время нахождения в игре: Изменение механики событий может повлиять на общее время, которое игроки проводят в игре.'''"
   ]
  }
 ],
 "metadata": {
  "kernelspec": {
   "display_name": "Python 3 (ipykernel)",
   "language": "python",
   "name": "python3"
  },
  "language_info": {
   "codemirror_mode": {
    "name": "ipython",
    "version": 3
   },
   "file_extension": ".py",
   "mimetype": "text/x-python",
   "name": "python",
   "nbconvert_exporter": "python",
   "pygments_lexer": "ipython3",
   "version": "3.10.9"
  }
 },
 "nbformat": 4,
 "nbformat_minor": 5
}
